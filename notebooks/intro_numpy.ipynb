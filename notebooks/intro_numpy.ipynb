{
 "cells": [
  {
   "cell_type": "code",
   "execution_count": null,
   "metadata": {},
   "outputs": [],
   "source": [
    "# if this fails, please install numpy :)\n",
    "import numpy as np"
   ]
  },
  {
   "attachments": {},
   "cell_type": "markdown",
   "metadata": {},
   "source": [
    "# Getting familiar with numpy and ndarrays\n",
    "\n",
    "*Any doubt on what you are doing: have a look at [numpy's (very detailed) documentation](https://numpy.org/doc/)*\n",
    "\n",
    "Using `np.zeros` construct a vector of complexes (double precision) of size $15$\n",
    "\n",
    "You'll need: `np.zeros`, `np.complex128`"
   ]
  },
  {
   "cell_type": "code",
   "execution_count": null,
   "metadata": {},
   "outputs": [],
   "source": []
  },
  {
   "attachments": {},
   "cell_type": "markdown",
   "metadata": {},
   "source": [
    "Is there a natural way of seeing this vector as a $3\\times 5$ complex matrix ?\n",
    "\n",
    "Can you convert it ? (using `np.reshape` or the `.reshape`  method of the `np.ndarray` class)\n",
    "\n",
    "What if you wanted to directly allocate such a matrix ? (using `np.zeros`)"
   ]
  },
  {
   "cell_type": "code",
   "execution_count": null,
   "metadata": {},
   "outputs": [],
   "source": []
  },
  {
   "attachments": {},
   "cell_type": "markdown",
   "metadata": {},
   "source": [
    "Same thing with a vector of length $8$ and a multi-array of shape $2\\times 2\\times 2$?"
   ]
  },
  {
   "cell_type": "code",
   "execution_count": null,
   "metadata": {},
   "outputs": [],
   "source": []
  },
  {
   "attachments": {},
   "cell_type": "markdown",
   "metadata": {},
   "source": [
    "Same thing with a vector of length $2^n$ and a multi-array of shape $2\\times \\cdots \\times 2$ ?"
   ]
  },
  {
   "cell_type": "code",
   "execution_count": null,
   "metadata": {},
   "outputs": [],
   "source": []
  },
  {
   "attachments": {},
   "cell_type": "markdown",
   "metadata": {},
   "source": [
    "Meditate upon the fact that this vector represents indeed a vector in the tensor product of $n$ $2$ dimensional Hilbert spaces.\n",
    "\n",
    "let us assume that such a vector is reshaped as a  $2\\times \\cdots \\times 2$ multi-array $M$.\n",
    "What does the entry $M[b_1, ..., b_n], b_i\\in \\{0, 1\\}$ represents (in terms of wavefunction/statevector/vector in a $2^n$ dimensional Hilbert space)?\n",
    "\n",
    "Allocate a vector/multi-array representing state $|0^7\\rangle$ over 7 qubits."
   ]
  },
  {
   "cell_type": "code",
   "execution_count": null,
   "metadata": {},
   "outputs": [],
   "source": []
  },
  {
   "attachments": {},
   "cell_type": "markdown",
   "metadata": {},
   "source": [
    "Allocate a vector/multi-array representing a Bell-state $\\frac{|00\\rangle + |11\\rangle}{\\sqrt{2}}$"
   ]
  },
  {
   "cell_type": "code",
   "execution_count": null,
   "metadata": {},
   "outputs": [],
   "source": []
  },
  {
   "attachments": {},
   "cell_type": "markdown",
   "metadata": {},
   "source": [
    "# Dots and tensordots\n",
    "\n",
    "Allocate two random matrices ($n\\times k$ and $k \\times m$) using `np.random.random` and multiply them using `np.dot`\n",
    "(pick your favorite non-trivial values for $n,k,m$)."
   ]
  },
  {
   "cell_type": "code",
   "execution_count": null,
   "metadata": {},
   "outputs": [],
   "source": []
  },
  {
   "attachments": {},
   "cell_type": "markdown",
   "metadata": {},
   "source": [
    "Comment on the complexity of this operation.\n",
    "\n",
    "Allocate two random multi-arrays ($n \\times k \\times l$ and $k \\times m \\times h$ for instance).\n",
    "\n",
    "Can you perform a tensordot/generalized between any pair of axes of these arrays ?\n",
    "\n",
    "If yes, show me. If not, is there a pair of axes between which you can perform a tensordot (show me too)?\n",
    "\n",
    "You can either use the `.tensordot` method or the `np.tensordot` function.\n"
   ]
  },
  {
   "cell_type": "code",
   "execution_count": null,
   "metadata": {},
   "outputs": [],
   "source": []
  },
  {
   "attachments": {},
   "cell_type": "markdown",
   "metadata": {},
   "source": [
    "Look at the shape of the resulting array. Can you infer how this shape was chosen/generated ?"
   ]
  },
  {
   "cell_type": "markdown",
   "metadata": {},
   "source": []
  },
  {
   "attachments": {},
   "cell_type": "markdown",
   "metadata": {},
   "source": [
    "Allocate two random multi-arrays ($n \\times k \\times l$ and $k \\times m \\times l$ for instance).\n",
    "\n",
    "Same questions but with pairs of pairs:\n",
    "- is there a pair of axes of the first array that you can tensordot with a pair of axes of the second?"
   ]
  },
  {
   "cell_type": "code",
   "execution_count": null,
   "metadata": {},
   "outputs": [],
   "source": []
  },
  {
   "attachments": {},
   "cell_type": "markdown",
   "metadata": {},
   "source": [
    "## Shuffling axes of multi-arrays\n",
    "\n",
    "Sometimes one needs to move axes around to transform for instance a $n \\times k \\times l$ array into a $n \\times l \\times k$ array.\n",
    "\n",
    "Read the documentation of functions `np.moveaxis` and `np.transpose`.\n",
    "\n",
    "Which one is the most performant ?\n",
    "Check it by running a quick benchmark."
   ]
  },
  {
   "cell_type": "code",
   "execution_count": null,
   "metadata": {},
   "outputs": [],
   "source": []
  },
  {
   "attachments": {},
   "cell_type": "markdown",
   "metadata": {},
   "source": [
    "Try to find a sound explanation of this difference."
   ]
  },
  {
   "attachments": {},
   "cell_type": "markdown",
   "metadata": {},
   "source": [
    "## The start of a basic simulator"
   ]
  },
  {
   "attachments": {},
   "cell_type": "markdown",
   "metadata": {},
   "source": [
    "Impress me by:\n",
    "- allocating a wavefunction over 3 qubits in state $|000\\rangle$  (`np.zeros` + some manipulation)\n",
    "- allocating a $2\\times 2$ matrix representing a $H$ gate (`np.array`). Recall that :\n",
    "$$ H = \\frac{1}{\\sqrt{2}}\\begin{bmatrix}\n",
    "1 & 1\\\\\n",
    "1 & -1\n",
    "\\end{bmatrix}$$\n",
    "\n",
    "- applying the gate $H$ to the first qubit via:\n",
    "    - reshaping of the wavefunction into a $2 \\times 2 \\times 2$ multi-array\n",
    "    - tensordot between the correct axes of the wavefunction and the $H$ matrix\n",
    "    - using a `np.transpose` to reorder the axes in their correct positions"
   ]
  },
  {
   "cell_type": "code",
   "execution_count": null,
   "metadata": {},
   "outputs": [],
   "source": []
  },
  {
   "attachments": {},
   "cell_type": "markdown",
   "metadata": {},
   "source": [
    "Impress me even further by:\n",
    "- starting from the wavefunction obtained at the end of the previous question\n",
    "- allocating a $4 \\times 4$ matrix corresponding to a CNOT gate. Recall that:\n",
    "$$ CNOT = \\begin{bmatrix}\n",
    "1 & 0 & 0 & 0\\\\\n",
    "0 & 1 & 0 & 0\\\\\n",
    "0 & 0 & 0 & 1\\\\\n",
    "0 & 0 & 1 & 0\n",
    "\\end{bmatrix} = P_0 \\otimes I + P_1 \\otimes X$$\n",
    "\n",
    "- using tensordots/reshapes/tranposes in order to apply gate CNOT on qubits 1 and 2\n",
    "- using tensordots/reshapes/tranposes in order to apply gate CNOT on qubits 1 and 3\n",
    "\n",
    "What is the final expected state ? Check it."
   ]
  },
  {
   "cell_type": "code",
   "execution_count": null,
   "metadata": {},
   "outputs": [],
   "source": []
  },
  {
   "cell_type": "markdown",
   "metadata": {},
   "source": []
  }
 ],
 "metadata": {
  "kernelspec": {
   "display_name": "Python 3",
   "language": "python",
   "name": "python3"
  },
  "language_info": {
   "codemirror_mode": {
    "name": "ipython",
    "version": 3
   },
   "file_extension": ".py",
   "mimetype": "text/x-python",
   "name": "python",
   "nbconvert_exporter": "python",
   "pygments_lexer": "ipython3",
   "version": "3.8.10"
  },
  "orig_nbformat": 4,
  "vscode": {
   "interpreter": {
    "hash": "916dbcbb3f70747c44a77c7bcd40155683ae19c65e1c03b4aa3499c5328201f1"
   }
  }
 },
 "nbformat": 4,
 "nbformat_minor": 2
}

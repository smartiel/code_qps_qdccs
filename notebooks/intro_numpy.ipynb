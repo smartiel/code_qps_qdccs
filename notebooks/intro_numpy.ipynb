{
 "cells": [
  {
   "cell_type": "code",
   "execution_count": 1,
   "metadata": {},
   "outputs": [],
   "source": [
    "# if this fails, please install numpy :)\n",
    "import numpy as np"
   ]
  },
  {
   "attachments": {},
   "cell_type": "markdown",
   "metadata": {},
   "source": [
    "# Getting familiar with numpy and ndarrays\n",
    "\n",
    "*Any doubt on what you are doing: have a look at [numpy's (very detailed) documentation](https://numpy.org/doc/)*\n",
    "\n",
    "Using `np.zeros` construct a vector of complexes (double precision) of size $15$\n",
    "\n",
    "You'll need: `np.zeros`, `np.complex128`"
   ]
  },
  {
   "cell_type": "code",
   "execution_count": 3,
   "metadata": {},
   "outputs": [
    {
     "name": "stdout",
     "output_type": "stream",
     "text": [
      "[0.34998076 0.68502947 0.04365875 0.49963894 0.39072351 0.68933888\n",
      " 0.54269296 0.28126931 0.38742896 0.63980417 0.82065068 0.99512138\n",
      " 0.76475669 0.69418904 0.85442515]\n"
     ]
    }
   ],
   "source": [
    "vector = np.zeros((15, ), dtype=np.complex128)\n",
    "vector = np.random.random((15, ))\n",
    "print(vector)\n",
    "# sum a_i |i>"
   ]
  },
  {
   "attachments": {},
   "cell_type": "markdown",
   "metadata": {},
   "source": [
    "Is there a natural way of seeing this vector as a $3\\times 5$ complex matrix ?\n",
    "\n",
    "Can you convert it ? (using `np.reshape` or the `.reshape`  method of the `np.ndarray` class)\n",
    "\n",
    "What if you wanted to directly allocate such a matrix ? (using `np.zeros`)"
   ]
  },
  {
   "cell_type": "code",
   "execution_count": 4,
   "metadata": {},
   "outputs": [
    {
     "name": "stdout",
     "output_type": "stream",
     "text": [
      "[[0.34998076 0.68502947 0.04365875 0.49963894 0.39072351]\n",
      " [0.68933888 0.54269296 0.28126931 0.38742896 0.63980417]\n",
      " [0.82065068 0.99512138 0.76475669 0.69418904 0.85442515]]\n"
     ]
    }
   ],
   "source": [
    "# sum a_i |i>\n",
    "# sum b_ij |i><j|\n",
    "print(np.reshape(vector, (3, 5)))"
   ]
  },
  {
   "attachments": {},
   "cell_type": "markdown",
   "metadata": {},
   "source": [
    "Same thing with a vector of length $8$ and a multi-array of shape $2\\times 2\\times 2$?"
   ]
  },
  {
   "cell_type": "code",
   "execution_count": 5,
   "metadata": {},
   "outputs": [
    {
     "name": "stdout",
     "output_type": "stream",
     "text": [
      "[[[0.54372955 0.93553274]\n",
      "  [0.51687181 0.89712132]]\n",
      "\n",
      " [[0.92090153 0.09260365]\n",
      "  [0.23274392 0.56166547]]]\n"
     ]
    }
   ],
   "source": [
    "vector = np.random.random((8, ))\n",
    "print(vector.reshape((2, 2, 2)))"
   ]
  },
  {
   "attachments": {},
   "cell_type": "markdown",
   "metadata": {},
   "source": [
    "Same thing with a vector of length $2^n$ and a multi-array of shape $2\\times \\cdots \\times 2$ ?"
   ]
  },
  {
   "cell_type": "code",
   "execution_count": 6,
   "metadata": {},
   "outputs": [
    {
     "name": "stdout",
     "output_type": "stream",
     "text": [
      "[[[[[0.09996453 0.68105102]\n",
      "    [0.89511884 0.23541227]]\n",
      "\n",
      "   [[0.17967527 0.10214383]\n",
      "    [0.82664299 0.71629725]]]\n",
      "\n",
      "\n",
      "  [[[0.33224961 0.54761942]\n",
      "    [0.83620011 0.60633256]]\n",
      "\n",
      "   [[0.07620966 0.87599974]\n",
      "    [0.1988704  0.4551886 ]]]]\n",
      "\n",
      "\n",
      "\n",
      " [[[[0.40334071 0.82674   ]\n",
      "    [0.57516905 0.6255893 ]]\n",
      "\n",
      "   [[0.96978021 0.23948022]\n",
      "    [0.15149608 0.1845052 ]]]\n",
      "\n",
      "\n",
      "  [[[0.58045098 0.61175452]\n",
      "    [0.47011979 0.96523867]]\n",
      "\n",
      "   [[0.85766726 0.12735769]\n",
      "    [0.90445658 0.3269979 ]]]]]\n"
     ]
    }
   ],
   "source": [
    "def do_it_for(n):\n",
    "    vector = np.random.random((2**n,))\n",
    "    print(vector.reshape((2, )* n))\n",
    "\n",
    "do_it_for(5)"
   ]
  },
  {
   "attachments": {},
   "cell_type": "markdown",
   "metadata": {},
   "source": [
    "Meditate upon the fact that this vector represents indeed a vector in the tensor product of $n$ $2$ dimensional Hilbert spaces.\n",
    "\n",
    "let us assume that such a vector is reshaped as a  $2\\times \\cdots \\times 2$ multi-array $M$.\n",
    "What does the entry $M[b_1, ..., b_n], b_i\\in \\{0, 1\\}$ represents (in terms of wavefunction/statevector/vector in a $2^n$ dimensional Hilbert space)?\n",
    "\n",
    "Allocate a vector/multi-array representing state $|0^7\\rangle$ over 7 qubits."
   ]
  },
  {
   "cell_type": "code",
   "execution_count": null,
   "metadata": {},
   "outputs": [],
   "source": [
    "vector = np.random.random((2**3, )).reshape((2, 2, 2))\n",
    "# |000>, |011>\n",
    "vector[0, 0, 0]\n",
    "vector[0, 1, 1]\n",
    "\n",
    "# |0....0> over 7 qubits\n",
    "vector = np.zeros((2,) * 7, dtype=np.complex128)\n",
    "vector[0, 0, 0, 0, 0, 0, 0] = 1.\n",
    "\n"
   ]
  },
  {
   "attachments": {},
   "cell_type": "markdown",
   "metadata": {},
   "source": [
    "Allocate a vector/multi-array representing a Bell-state $\\frac{|00\\rangle + |11\\rangle}{\\sqrt{2}}$"
   ]
  },
  {
   "cell_type": "code",
   "execution_count": 8,
   "metadata": {},
   "outputs": [
    {
     "name": "stdout",
     "output_type": "stream",
     "text": [
      "[0.70710678+0.j 0.        +0.j 0.        +0.j 0.70710678+0.j]\n"
     ]
    }
   ],
   "source": [
    "vector = np.zeros((2,) * 2, dtype=np.complex128)\n",
    "vector[0, 0] = 1 / np.sqrt(2.)\n",
    "vector[1, 1] = 1 / np.sqrt(2.)\n",
    "print(vector.reshape((4, )))\n"
   ]
  },
  {
   "attachments": {},
   "cell_type": "markdown",
   "metadata": {},
   "source": [
    "# Dots and tensordots\n",
    "\n",
    "Allocate two random matrices ($n\\times k$ and $k \\times m$) using `np.random.random` and multiply them using `np.dot`\n",
    "(pick your favorite non-trivial values for $n,k,m$)."
   ]
  },
  {
   "cell_type": "code",
   "execution_count": 9,
   "metadata": {},
   "outputs": [
    {
     "name": "stdout",
     "output_type": "stream",
     "text": [
      "[[0.33123535 0.41069197 0.45217584 0.44944302]\n",
      " [0.83080655 0.80253491 1.15984919 1.05026578]]\n",
      "[[0.33123535 0.41069197 0.45217584 0.44944302]\n",
      " [0.83080655 0.80253491 1.15984919 1.05026578]]\n",
      "[[0.33123535 0.41069197 0.45217584 0.44944302]\n",
      " [0.83080655 0.80253491 1.15984919 1.05026578]]\n"
     ]
    }
   ],
   "source": [
    "A = np.random.random((2, 3))\n",
    "B = np.random.random((3, 4))\n",
    "\n",
    "print(np.dot(A, B))\n",
    "print(A.dot(B))\n",
    "print(A @ B)"
   ]
  },
  {
   "attachments": {},
   "cell_type": "markdown",
   "metadata": {},
   "source": [
    "Comment on the complexity of this operation.\n",
    "\n",
    "Allocate two random multi-arrays ($n \\times k \\times l$ and $k \\times m \\times h$ for instance).\n",
    "\n",
    "Can you perform a tensordot/generalized between any pair of axes of these arrays ?\n",
    "\n",
    "If yes, show me. If not, is there a pair of axes between which you can perform a tensordot (show me too)?\n",
    "\n",
    "You can either use the `.tensordot` method or the `np.tensordot` function.\n"
   ]
  },
  {
   "cell_type": "code",
   "execution_count": 12,
   "metadata": {},
   "outputs": [
    {
     "name": "stdout",
     "output_type": "stream",
     "text": [
      "(2, 4, 5, 6)\n",
      "(2, 4, 5, 6)\n"
     ]
    }
   ],
   "source": [
    "A = np.random.random((2, 3, 4))\n",
    "B = np.random.random((3, 5, 6))\n",
    "\n",
    "result = np.tensordot(A, B, axes=([1], [0]))\n",
    "print(result.shape)\n",
    "# (2, 4, 5, 6)\n"
   ]
  },
  {
   "attachments": {},
   "cell_type": "markdown",
   "metadata": {},
   "source": [
    "Look at the shape of the resulting array. Can you infer how this shape was chosen/generated ?"
   ]
  },
  {
   "cell_type": "markdown",
   "metadata": {},
   "source": []
  },
  {
   "attachments": {},
   "cell_type": "markdown",
   "metadata": {},
   "source": [
    "Allocate two random multi-arrays ($n \\times k \\times l$ and $k \\times m \\times l$ for instance).\n",
    "\n",
    "Same questions but with pairs of pairs:\n",
    "- is there a pair of axes of the first array that you can tensordot with a pair of axes of the second?"
   ]
  },
  {
   "cell_type": "code",
   "execution_count": 13,
   "metadata": {},
   "outputs": [
    {
     "name": "stdout",
     "output_type": "stream",
     "text": [
      "(2, 5)\n"
     ]
    }
   ],
   "source": [
    "A = np.random.random((2, 3, 7))\n",
    "B = np.random.random((3, 5, 7))\n",
    "\n",
    "result = np.tensordot(A, B, axes=([1, 2], [0, 2]))\n",
    "print(result.shape)"
   ]
  },
  {
   "attachments": {},
   "cell_type": "markdown",
   "metadata": {},
   "source": [
    "## Shuffling axes of multi-arrays\n",
    "\n",
    "Sometimes one needs to move axes around to transform for instance a $n \\times k \\times l$ array into a $n \\times l \\times k$ array.\n",
    "\n",
    "Read the documentation of functions `np.moveaxis` and `np.transpose`.\n",
    "\n",
    "Which one is the most performant ?\n",
    "Check it by running a quick benchmark."
   ]
  },
  {
   "cell_type": "code",
   "execution_count": 15,
   "metadata": {},
   "outputs": [
    {
     "name": "stdout",
     "output_type": "stream",
     "text": [
      "With moveaxis: 2.9907724857330322s\n",
      "With transpose: 0.23366761207580566s\n"
     ]
    }
   ],
   "source": [
    "import time\n",
    "\n",
    "N = 15\n",
    "array = np.random.random((2, ) * N)\n",
    "permutation = list(range(N))\n",
    "np.random.shuffle(permutation)\n",
    "\n",
    "RETRIES = 10000\n",
    "\n",
    "start = time.time()\n",
    "for _ in range(RETRIES):\n",
    "    np.moveaxis(array, source=list(range(N)), destination=permutation)\n",
    "print(f\"With moveaxis: {time.time() - start}s\")\n",
    "\n",
    "start = time.time()\n",
    "for _ in range(RETRIES):\n",
    "    np.transpose(array, permutation)\n",
    "print(f\"With transpose: {time.time() - start}s\")"
   ]
  },
  {
   "attachments": {},
   "cell_type": "markdown",
   "metadata": {},
   "source": [
    "Try to find a sound explanation of this difference."
   ]
  },
  {
   "attachments": {},
   "cell_type": "markdown",
   "metadata": {},
   "source": [
    "## The start of a basic simulator"
   ]
  },
  {
   "attachments": {},
   "cell_type": "markdown",
   "metadata": {},
   "source": [
    "Impress me by:\n",
    "- allocating a wavefunction over 3 qubits in state $|000\\rangle$  (`np.zeros` + some manipulation)\n",
    "- allocating a $2\\times 2$ matrix representing a $H$ gate (`np.array`). Recall that :\n",
    "$$ H = \\frac{1}{\\sqrt{2}}\\begin{bmatrix}\n",
    "1 & 1\\\\\n",
    "1 & -1\n",
    "\\end{bmatrix}$$\n",
    "\n",
    "- applying the gate $H$ to the first qubit via:\n",
    "    - reshaping of the wavefunction into a $2 \\times 2 \\times 2$ multi-array\n",
    "    - tensordot between the correct axes of the wavefunction and the $H$ matrix\n",
    "    - using a `np.transpose` to reorder the axes in their correct positions"
   ]
  },
  {
   "cell_type": "code",
   "execution_count": null,
   "metadata": {},
   "outputs": [],
   "source": []
  },
  {
   "attachments": {},
   "cell_type": "markdown",
   "metadata": {},
   "source": [
    "Impress me even further by:\n",
    "- starting from the wavefunction obtained at the end of the previous question\n",
    "- allocating a $4 \\times 4$ matrix corresponding to a CNOT gate. Recall that:\n",
    "$$ CNOT = \\begin{bmatrix}\n",
    "1 & 0 & 0 & 0\\\\\n",
    "0 & 1 & 0 & 0\\\\\n",
    "0 & 0 & 0 & 1\\\\\n",
    "0 & 0 & 1 & 0\n",
    "\\end{bmatrix} = P_0 \\otimes I + P_1 \\otimes X$$\n",
    "\n",
    "- using tensordots/reshapes/tranposes in order to apply gate CNOT on qubits 1 and 2\n",
    "- using tensordots/reshapes/tranposes in order to apply gate CNOT on qubits 1 and 3\n",
    "\n",
    "What is the final expected state ? Check it."
   ]
  },
  {
   "cell_type": "code",
   "execution_count": null,
   "metadata": {},
   "outputs": [],
   "source": []
  },
  {
   "cell_type": "markdown",
   "metadata": {},
   "source": []
  }
 ],
 "metadata": {
  "kernelspec": {
   "display_name": "Python 3",
   "language": "python",
   "name": "python3"
  },
  "language_info": {
   "codemirror_mode": {
    "name": "ipython",
    "version": 3
   },
   "file_extension": ".py",
   "mimetype": "text/x-python",
   "name": "python",
   "nbconvert_exporter": "python",
   "pygments_lexer": "ipython3",
   "version": "3.9.7 (default, Sep 13 2021, 08:18:39) \n[GCC 8.5.0 20210514 (Red Hat 8.5.0-3)]"
  },
  "orig_nbformat": 4,
  "vscode": {
   "interpreter": {
    "hash": "916dbcbb3f70747c44a77c7bcd40155683ae19c65e1c03b4aa3499c5328201f1"
   }
  }
 },
 "nbformat": 4,
 "nbformat_minor": 2
}
